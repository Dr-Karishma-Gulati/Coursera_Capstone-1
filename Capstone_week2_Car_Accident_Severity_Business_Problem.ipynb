{
 "cells": [
  {
   "cell_type": "markdown",
   "metadata": {},
   "source": [
    "# Capstone Project -- Car Accident Severity \n",
    "\n",
    "## 1. Introduction / Business Problem  \n",
    "\n",
    "### 1.1. Background\n",
    "\n",
    "Road traffic injuries (RTIs) are a major public health problem. The annual global status reports on\n",
    "road safety, launched by the World Health Organization (WHO), highlights that the number of\n",
    "road traffic deaths has exceeded one million in recent years. That is over 3000 people dying on\n",
    "the world's roads every day.  \n",
    "\n",
    "To combat this major problem, the volume of research in the areas of accident analysis and\n",
    "prediction has been increasing over the past few decades.   The analytical data mining\n",
    "solutions can be largely employed to determine and predict related influential factors and thus\n",
    "to explain RTIs severity.\n",
    "\n",
    "Among the analytical data mining solutions, supervised machine learning (ML), has become a\n",
    "popular scientific method to predict the severity of accidents. The reasons for this popularity,\n",
    "can be referred to the capacity present in ML to identify the existing patterns in the data and\n",
    "make predictions via the establishment and evaluation of diverse algorithms. Moreover, the\n",
    "ability of MLs to handle large amounts of data is an additional asset for this purpose, as the data\n",
    "on road traffic accidents are often sparse and largely extended.\n",
    "\n",
    "### 1.2. Objective\n",
    "The objective of this project is to predict the car accident severity by training and evaluating\n",
    "supervised machine learning algorithms with the help of a shared dataset including the record\n",
    "of collisions provided by SDOT Traffic Management Division, Traffic Records Group (timeframe:\n",
    "2004 to present) for the city of Seattle, a city on the west coast of the United States.\n",
    "As the approach to reach this objective, the cross-industry standard process for data mining\n",
    "(CRISP-DM) (Figure 1) will be implemented. During the coursework of this procedure, the raw data will be accordingly well understood and prepared before being fed for the predictive\n",
    "modeling analysis in the next steps.\n",
    "\n",
    "### 1.3. Interest\n",
    "The report of this project can be targeted to stakeholders, who are involved with road traffic\n",
    "injuries incl. road administrators, traffic control authorities, and emergency road services in order\n",
    "to help them predict the car accident severities and improve the road users' safety margins.\n",
    "References:\n",
    "\n"
   ]
  },
  {
   "cell_type": "code",
   "execution_count": null,
   "metadata": {},
   "outputs": [],
   "source": []
  }
 ],
 "metadata": {
  "kernelspec": {
   "display_name": "Python 3",
   "language": "python",
   "name": "python3"
  },
  "language_info": {
   "codemirror_mode": {
    "name": "ipython",
    "version": 3
   },
   "file_extension": ".py",
   "mimetype": "text/x-python",
   "name": "python",
   "nbconvert_exporter": "python",
   "pygments_lexer": "ipython3",
   "version": "3.8.3"
  }
 },
 "nbformat": 4,
 "nbformat_minor": 4
}
